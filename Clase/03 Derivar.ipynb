{
 "cells": [
  {
   "cell_type": "code",
   "execution_count": 6,
   "id": "1100d3cd-33a5-4962-9f7f-03b0d3b374d1",
   "metadata": {},
   "outputs": [],
   "source": [
    "import sympy as sp\n"
   ]
  },
  {
   "cell_type": "code",
   "execution_count": 7,
   "id": "139d6852-53d5-4a60-b39c-476499d0b323",
   "metadata": {},
   "outputs": [],
   "source": [
    "# variable a derivar\n",
    "t = sp.Symbol('t') \n",
    "\n",
    "# función s(t)\n",
    "s = t**(1/2 )"
   ]
  },
  {
   "cell_type": "code",
   "execution_count": 8,
   "id": "f3813b3a-41e1-4b18-b4d8-2d5556fe1861",
   "metadata": {},
   "outputs": [],
   "source": [
    "ds_dt = sp.diff(s, t)\n"
   ]
  },
  {
   "cell_type": "code",
   "execution_count": 11,
   "id": "d07a9edb-bd95-46da-ab08-988af55c8fb3",
   "metadata": {},
   "outputs": [
    {
     "data": {
      "text/latex": [
       "$\\displaystyle \\frac{0.5}{t^{0.5}}$"
      ],
      "text/plain": [
       "0.5/t**0.5"
      ]
     },
     "execution_count": 11,
     "metadata": {},
     "output_type": "execute_result"
    }
   ],
   "source": [
    "ds_dt"
   ]
  },
  {
   "cell_type": "code",
   "execution_count": null,
   "id": "9e08a417-ee37-4dd6-b6aa-d111a21438bc",
   "metadata": {},
   "outputs": [],
   "source": []
  },
  {
   "cell_type": "code",
   "execution_count": null,
   "id": "d583aee5-7ed6-497f-9d1d-c85288a371dd",
   "metadata": {},
   "outputs": [],
   "source": []
  },
  {
   "cell_type": "code",
   "execution_count": null,
   "id": "728ffe36-ae2f-49b7-b4ce-5b84f832f860",
   "metadata": {},
   "outputs": [],
   "source": []
  }
 ],
 "metadata": {
  "kernelspec": {
   "display_name": "Python 3",
   "language": "python",
   "name": "python3"
  },
  "language_info": {
   "codemirror_mode": {
    "name": "ipython",
    "version": 3
   },
   "file_extension": ".py",
   "mimetype": "text/x-python",
   "name": "python",
   "nbconvert_exporter": "python",
   "pygments_lexer": "ipython3",
   "version": "3.11.4"
  }
 },
 "nbformat": 4,
 "nbformat_minor": 5
}
